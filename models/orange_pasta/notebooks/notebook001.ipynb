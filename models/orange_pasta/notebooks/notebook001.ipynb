{
 "cells": [
  {
   "cell_type": "markdown",
   "metadata": {},
   "source": [
    "## This notebook is used to test if not using retrain_and_retrieve can generate same results"
   ]
  },
  {
   "cell_type": "code",
   "execution_count": 1,
   "metadata": {},
   "outputs": [],
   "source": [
    "from pathlib import Path\n",
    "import pandas as pd\n",
    "import numpy as np\n",
    "import sys\n",
    "current_file_path = Path.cwd().resolve()\n",
    "root_path = current_file_path.parent\n",
    "sys.path.append(str(root_path))\n",
    "\n",
    "from sklearn.metrics import mean_squared_error\n",
    "from configs.config_common import get_common_config\n",
    "from views_forecasts.extensions import *"
   ]
  },
  {
   "cell_type": "code",
   "execution_count": 2,
   "metadata": {},
   "outputs": [
    {
     "data": {
      "text/html": [
       "<div>\n",
       "<style scoped>\n",
       "    .dataframe tbody tr th:only-of-type {\n",
       "        vertical-align: middle;\n",
       "    }\n",
       "\n",
       "    .dataframe tbody tr th {\n",
       "        vertical-align: top;\n",
       "    }\n",
       "\n",
       "    .dataframe thead th {\n",
       "        text-align: right;\n",
       "    }\n",
       "</style>\n",
       "<table border=\"1\" class=\"dataframe\">\n",
       "  <thead>\n",
       "    <tr style=\"text-align: right;\">\n",
       "      <th></th>\n",
       "      <th></th>\n",
       "      <th>step_pred_1</th>\n",
       "      <th>step_pred_2</th>\n",
       "      <th>step_pred_3</th>\n",
       "      <th>step_pred_4</th>\n",
       "      <th>step_pred_5</th>\n",
       "      <th>step_pred_6</th>\n",
       "      <th>step_pred_7</th>\n",
       "      <th>step_pred_8</th>\n",
       "      <th>step_pred_9</th>\n",
       "      <th>step_pred_10</th>\n",
       "      <th>...</th>\n",
       "      <th>step_pred_27</th>\n",
       "      <th>step_pred_28</th>\n",
       "      <th>step_pred_29</th>\n",
       "      <th>step_pred_30</th>\n",
       "      <th>step_pred_31</th>\n",
       "      <th>step_pred_32</th>\n",
       "      <th>step_pred_33</th>\n",
       "      <th>step_pred_34</th>\n",
       "      <th>step_pred_35</th>\n",
       "      <th>step_pred_36</th>\n",
       "    </tr>\n",
       "    <tr>\n",
       "      <th>month_id</th>\n",
       "      <th>priogrid_gid</th>\n",
       "      <th></th>\n",
       "      <th></th>\n",
       "      <th></th>\n",
       "      <th></th>\n",
       "      <th></th>\n",
       "      <th></th>\n",
       "      <th></th>\n",
       "      <th></th>\n",
       "      <th></th>\n",
       "      <th></th>\n",
       "      <th></th>\n",
       "      <th></th>\n",
       "      <th></th>\n",
       "      <th></th>\n",
       "      <th></th>\n",
       "      <th></th>\n",
       "      <th></th>\n",
       "      <th></th>\n",
       "      <th></th>\n",
       "      <th></th>\n",
       "      <th></th>\n",
       "    </tr>\n",
       "  </thead>\n",
       "  <tbody>\n",
       "    <tr>\n",
       "      <th rowspan=\"5\" valign=\"top\">529</th>\n",
       "      <th>62356</th>\n",
       "      <td>0.022555</td>\n",
       "      <td>0.021456</td>\n",
       "      <td>0.021772</td>\n",
       "      <td>0.023067</td>\n",
       "      <td>0.022615</td>\n",
       "      <td>0.021842</td>\n",
       "      <td>0.024531</td>\n",
       "      <td>0.024614</td>\n",
       "      <td>0.025675</td>\n",
       "      <td>0.027789</td>\n",
       "      <td>...</td>\n",
       "      <td>0.017809</td>\n",
       "      <td>0.015909</td>\n",
       "      <td>0.016727</td>\n",
       "      <td>0.018867</td>\n",
       "      <td>0.017129</td>\n",
       "      <td>0.018179</td>\n",
       "      <td>0.018673</td>\n",
       "      <td>0.019120</td>\n",
       "      <td>0.016579</td>\n",
       "      <td>0.016946</td>\n",
       "    </tr>\n",
       "    <tr>\n",
       "      <th>79599</th>\n",
       "      <td>0.022555</td>\n",
       "      <td>0.021456</td>\n",
       "      <td>0.021772</td>\n",
       "      <td>0.023067</td>\n",
       "      <td>0.022615</td>\n",
       "      <td>0.021842</td>\n",
       "      <td>0.024531</td>\n",
       "      <td>0.024614</td>\n",
       "      <td>0.025675</td>\n",
       "      <td>0.027789</td>\n",
       "      <td>...</td>\n",
       "      <td>0.017809</td>\n",
       "      <td>0.015909</td>\n",
       "      <td>0.016727</td>\n",
       "      <td>0.018867</td>\n",
       "      <td>0.017129</td>\n",
       "      <td>0.018179</td>\n",
       "      <td>0.018673</td>\n",
       "      <td>0.019120</td>\n",
       "      <td>0.016579</td>\n",
       "      <td>0.016946</td>\n",
       "    </tr>\n",
       "    <tr>\n",
       "      <th>79600</th>\n",
       "      <td>0.022555</td>\n",
       "      <td>0.021456</td>\n",
       "      <td>0.021772</td>\n",
       "      <td>0.023067</td>\n",
       "      <td>0.022615</td>\n",
       "      <td>0.021842</td>\n",
       "      <td>0.024531</td>\n",
       "      <td>0.024614</td>\n",
       "      <td>0.025675</td>\n",
       "      <td>0.027789</td>\n",
       "      <td>...</td>\n",
       "      <td>0.017809</td>\n",
       "      <td>0.015909</td>\n",
       "      <td>0.016727</td>\n",
       "      <td>0.018867</td>\n",
       "      <td>0.017129</td>\n",
       "      <td>0.018179</td>\n",
       "      <td>0.018673</td>\n",
       "      <td>0.019120</td>\n",
       "      <td>0.016579</td>\n",
       "      <td>0.016946</td>\n",
       "    </tr>\n",
       "    <tr>\n",
       "      <th>79601</th>\n",
       "      <td>0.022555</td>\n",
       "      <td>0.021456</td>\n",
       "      <td>0.021772</td>\n",
       "      <td>0.023067</td>\n",
       "      <td>0.022615</td>\n",
       "      <td>0.021842</td>\n",
       "      <td>0.024531</td>\n",
       "      <td>0.024614</td>\n",
       "      <td>0.025675</td>\n",
       "      <td>0.027789</td>\n",
       "      <td>...</td>\n",
       "      <td>0.017809</td>\n",
       "      <td>0.015909</td>\n",
       "      <td>0.016727</td>\n",
       "      <td>0.018867</td>\n",
       "      <td>0.017129</td>\n",
       "      <td>0.018179</td>\n",
       "      <td>0.018673</td>\n",
       "      <td>0.019120</td>\n",
       "      <td>0.016579</td>\n",
       "      <td>0.016946</td>\n",
       "    </tr>\n",
       "    <tr>\n",
       "      <th>80317</th>\n",
       "      <td>0.022555</td>\n",
       "      <td>0.021456</td>\n",
       "      <td>0.036531</td>\n",
       "      <td>0.023067</td>\n",
       "      <td>0.022615</td>\n",
       "      <td>0.021842</td>\n",
       "      <td>0.024531</td>\n",
       "      <td>0.024614</td>\n",
       "      <td>0.025675</td>\n",
       "      <td>0.027789</td>\n",
       "      <td>...</td>\n",
       "      <td>0.041920</td>\n",
       "      <td>0.065944</td>\n",
       "      <td>0.076571</td>\n",
       "      <td>0.053233</td>\n",
       "      <td>0.062073</td>\n",
       "      <td>0.055777</td>\n",
       "      <td>0.063572</td>\n",
       "      <td>0.058517</td>\n",
       "      <td>0.077416</td>\n",
       "      <td>0.077239</td>\n",
       "    </tr>\n",
       "    <tr>\n",
       "      <th>...</th>\n",
       "      <th>...</th>\n",
       "      <td>...</td>\n",
       "      <td>...</td>\n",
       "      <td>...</td>\n",
       "      <td>...</td>\n",
       "      <td>...</td>\n",
       "      <td>...</td>\n",
       "      <td>...</td>\n",
       "      <td>...</td>\n",
       "      <td>...</td>\n",
       "      <td>...</td>\n",
       "      <td>...</td>\n",
       "      <td>...</td>\n",
       "      <td>...</td>\n",
       "      <td>...</td>\n",
       "      <td>...</td>\n",
       "      <td>...</td>\n",
       "      <td>...</td>\n",
       "      <td>...</td>\n",
       "      <td>...</td>\n",
       "      <td>...</td>\n",
       "      <td>...</td>\n",
       "    </tr>\n",
       "    <tr>\n",
       "      <th rowspan=\"5\" valign=\"top\">565</th>\n",
       "      <th>190496</th>\n",
       "      <td>0.022555</td>\n",
       "      <td>0.021456</td>\n",
       "      <td>0.021772</td>\n",
       "      <td>0.023067</td>\n",
       "      <td>0.022615</td>\n",
       "      <td>0.021842</td>\n",
       "      <td>0.024531</td>\n",
       "      <td>0.024614</td>\n",
       "      <td>0.025675</td>\n",
       "      <td>0.027789</td>\n",
       "      <td>...</td>\n",
       "      <td>0.017809</td>\n",
       "      <td>0.015909</td>\n",
       "      <td>0.016727</td>\n",
       "      <td>0.018867</td>\n",
       "      <td>0.017129</td>\n",
       "      <td>0.018179</td>\n",
       "      <td>0.018673</td>\n",
       "      <td>0.019120</td>\n",
       "      <td>0.016579</td>\n",
       "      <td>0.016946</td>\n",
       "    </tr>\n",
       "    <tr>\n",
       "      <th>190507</th>\n",
       "      <td>0.022555</td>\n",
       "      <td>0.021456</td>\n",
       "      <td>0.021772</td>\n",
       "      <td>0.023067</td>\n",
       "      <td>0.022615</td>\n",
       "      <td>0.021842</td>\n",
       "      <td>0.024531</td>\n",
       "      <td>0.024614</td>\n",
       "      <td>0.025675</td>\n",
       "      <td>0.027789</td>\n",
       "      <td>...</td>\n",
       "      <td>0.017809</td>\n",
       "      <td>0.015909</td>\n",
       "      <td>0.016727</td>\n",
       "      <td>0.018867</td>\n",
       "      <td>0.017129</td>\n",
       "      <td>0.018179</td>\n",
       "      <td>0.018673</td>\n",
       "      <td>0.019120</td>\n",
       "      <td>0.016579</td>\n",
       "      <td>0.016946</td>\n",
       "    </tr>\n",
       "    <tr>\n",
       "      <th>190508</th>\n",
       "      <td>0.022555</td>\n",
       "      <td>0.021456</td>\n",
       "      <td>0.021772</td>\n",
       "      <td>0.023067</td>\n",
       "      <td>0.022615</td>\n",
       "      <td>0.021842</td>\n",
       "      <td>0.024531</td>\n",
       "      <td>0.024614</td>\n",
       "      <td>0.025675</td>\n",
       "      <td>0.027789</td>\n",
       "      <td>...</td>\n",
       "      <td>0.017809</td>\n",
       "      <td>0.015909</td>\n",
       "      <td>0.016727</td>\n",
       "      <td>0.018867</td>\n",
       "      <td>0.017129</td>\n",
       "      <td>0.018179</td>\n",
       "      <td>0.018673</td>\n",
       "      <td>0.019120</td>\n",
       "      <td>0.016579</td>\n",
       "      <td>0.016946</td>\n",
       "    </tr>\n",
       "    <tr>\n",
       "      <th>190510</th>\n",
       "      <td>0.022555</td>\n",
       "      <td>0.021456</td>\n",
       "      <td>0.021772</td>\n",
       "      <td>0.023067</td>\n",
       "      <td>0.022615</td>\n",
       "      <td>0.021842</td>\n",
       "      <td>0.024531</td>\n",
       "      <td>0.024614</td>\n",
       "      <td>0.025675</td>\n",
       "      <td>0.027789</td>\n",
       "      <td>...</td>\n",
       "      <td>0.017809</td>\n",
       "      <td>0.015909</td>\n",
       "      <td>0.016727</td>\n",
       "      <td>0.018867</td>\n",
       "      <td>0.017129</td>\n",
       "      <td>0.018179</td>\n",
       "      <td>0.018673</td>\n",
       "      <td>0.019120</td>\n",
       "      <td>0.016579</td>\n",
       "      <td>0.016946</td>\n",
       "    </tr>\n",
       "    <tr>\n",
       "      <th>190511</th>\n",
       "      <td>0.022555</td>\n",
       "      <td>0.021456</td>\n",
       "      <td>0.021772</td>\n",
       "      <td>0.023067</td>\n",
       "      <td>0.022615</td>\n",
       "      <td>0.021842</td>\n",
       "      <td>0.024531</td>\n",
       "      <td>0.024614</td>\n",
       "      <td>0.025675</td>\n",
       "      <td>0.027789</td>\n",
       "      <td>...</td>\n",
       "      <td>0.017809</td>\n",
       "      <td>0.015909</td>\n",
       "      <td>0.016727</td>\n",
       "      <td>0.018867</td>\n",
       "      <td>0.017129</td>\n",
       "      <td>0.018179</td>\n",
       "      <td>0.018673</td>\n",
       "      <td>0.019120</td>\n",
       "      <td>0.016579</td>\n",
       "      <td>0.016946</td>\n",
       "    </tr>\n",
       "  </tbody>\n",
       "</table>\n",
       "<p>485070 rows × 36 columns</p>\n",
       "</div>"
      ],
      "text/plain": [
       "                       step_pred_1  step_pred_2  step_pred_3  step_pred_4  \\\n",
       "month_id priogrid_gid                                                       \n",
       "529      62356            0.022555     0.021456     0.021772     0.023067   \n",
       "         79599            0.022555     0.021456     0.021772     0.023067   \n",
       "         79600            0.022555     0.021456     0.021772     0.023067   \n",
       "         79601            0.022555     0.021456     0.021772     0.023067   \n",
       "         80317            0.022555     0.021456     0.036531     0.023067   \n",
       "...                            ...          ...          ...          ...   \n",
       "565      190496           0.022555     0.021456     0.021772     0.023067   \n",
       "         190507           0.022555     0.021456     0.021772     0.023067   \n",
       "         190508           0.022555     0.021456     0.021772     0.023067   \n",
       "         190510           0.022555     0.021456     0.021772     0.023067   \n",
       "         190511           0.022555     0.021456     0.021772     0.023067   \n",
       "\n",
       "                       step_pred_5  step_pred_6  step_pred_7  step_pred_8  \\\n",
       "month_id priogrid_gid                                                       \n",
       "529      62356            0.022615     0.021842     0.024531     0.024614   \n",
       "         79599            0.022615     0.021842     0.024531     0.024614   \n",
       "         79600            0.022615     0.021842     0.024531     0.024614   \n",
       "         79601            0.022615     0.021842     0.024531     0.024614   \n",
       "         80317            0.022615     0.021842     0.024531     0.024614   \n",
       "...                            ...          ...          ...          ...   \n",
       "565      190496           0.022615     0.021842     0.024531     0.024614   \n",
       "         190507           0.022615     0.021842     0.024531     0.024614   \n",
       "         190508           0.022615     0.021842     0.024531     0.024614   \n",
       "         190510           0.022615     0.021842     0.024531     0.024614   \n",
       "         190511           0.022615     0.021842     0.024531     0.024614   \n",
       "\n",
       "                       step_pred_9  step_pred_10  ...  step_pred_27  \\\n",
       "month_id priogrid_gid                             ...                 \n",
       "529      62356            0.025675      0.027789  ...      0.017809   \n",
       "         79599            0.025675      0.027789  ...      0.017809   \n",
       "         79600            0.025675      0.027789  ...      0.017809   \n",
       "         79601            0.025675      0.027789  ...      0.017809   \n",
       "         80317            0.025675      0.027789  ...      0.041920   \n",
       "...                            ...           ...  ...           ...   \n",
       "565      190496           0.025675      0.027789  ...      0.017809   \n",
       "         190507           0.025675      0.027789  ...      0.017809   \n",
       "         190508           0.025675      0.027789  ...      0.017809   \n",
       "         190510           0.025675      0.027789  ...      0.017809   \n",
       "         190511           0.025675      0.027789  ...      0.017809   \n",
       "\n",
       "                       step_pred_28  step_pred_29  step_pred_30  step_pred_31  \\\n",
       "month_id priogrid_gid                                                           \n",
       "529      62356             0.015909      0.016727      0.018867      0.017129   \n",
       "         79599             0.015909      0.016727      0.018867      0.017129   \n",
       "         79600             0.015909      0.016727      0.018867      0.017129   \n",
       "         79601             0.015909      0.016727      0.018867      0.017129   \n",
       "         80317             0.065944      0.076571      0.053233      0.062073   \n",
       "...                             ...           ...           ...           ...   \n",
       "565      190496            0.015909      0.016727      0.018867      0.017129   \n",
       "         190507            0.015909      0.016727      0.018867      0.017129   \n",
       "         190508            0.015909      0.016727      0.018867      0.017129   \n",
       "         190510            0.015909      0.016727      0.018867      0.017129   \n",
       "         190511            0.015909      0.016727      0.018867      0.017129   \n",
       "\n",
       "                       step_pred_32  step_pred_33  step_pred_34  step_pred_35  \\\n",
       "month_id priogrid_gid                                                           \n",
       "529      62356             0.018179      0.018673      0.019120      0.016579   \n",
       "         79599             0.018179      0.018673      0.019120      0.016579   \n",
       "         79600             0.018179      0.018673      0.019120      0.016579   \n",
       "         79601             0.018179      0.018673      0.019120      0.016579   \n",
       "         80317             0.055777      0.063572      0.058517      0.077416   \n",
       "...                             ...           ...           ...           ...   \n",
       "565      190496            0.018179      0.018673      0.019120      0.016579   \n",
       "         190507            0.018179      0.018673      0.019120      0.016579   \n",
       "         190508            0.018179      0.018673      0.019120      0.016579   \n",
       "         190510            0.018179      0.018673      0.019120      0.016579   \n",
       "         190511            0.018179      0.018673      0.019120      0.016579   \n",
       "\n",
       "                       step_pred_36  \n",
       "month_id priogrid_gid                \n",
       "529      62356             0.016946  \n",
       "         79599             0.016946  \n",
       "         79600             0.016946  \n",
       "         79601             0.016946  \n",
       "         80317             0.077239  \n",
       "...                             ...  \n",
       "565      190496            0.016946  \n",
       "         190507            0.016946  \n",
       "         190508            0.016946  \n",
       "         190510            0.016946  \n",
       "         190511            0.016946  \n",
       "\n",
       "[485070 rows x 36 columns]"
      ]
     },
     "execution_count": 2,
     "metadata": {},
     "output_type": "execute_result"
    }
   ],
   "source": [
    "pd.read_parquet(root_path/\"data/generated/generated.parquet\")"
   ]
  },
  {
   "cell_type": "code",
   "execution_count": 6,
   "metadata": {},
   "outputs": [
    {
     "data": {
      "text/plain": [
       "ViewsMonth(531)"
      ]
     },
     "execution_count": 6,
     "metadata": {},
     "output_type": "execute_result"
    }
   ],
   "source": [
    "from ingester3.ViewsMonth import ViewsMonth\n",
    "ViewsMonth.now()"
   ]
  },
  {
   "cell_type": "code",
   "execution_count": 5,
   "metadata": {},
   "outputs": [
    {
     "ename": "TypeError",
     "evalue": "'property' object is not callable",
     "output_type": "error",
     "traceback": [
      "\u001b[0;31m---------------------------------------------------------------------------\u001b[0m",
      "\u001b[0;31mTypeError\u001b[0m                                 Traceback (most recent call last)",
      "Cell \u001b[0;32mIn[5], line 1\u001b[0m\n\u001b[0;32m----> 1\u001b[0m ViewsMonth\u001b[38;5;241m.\u001b[39mend_date()\n",
      "\u001b[0;31mTypeError\u001b[0m: 'property' object is not callable"
     ]
    }
   ],
   "source": [
    "ViewsMonth.end_date()"
   ]
  },
  {
   "cell_type": "code",
   "execution_count": 16,
   "metadata": {},
   "outputs": [],
   "source": [
    "def evaluate_model(config):\n",
    "    print('Evaluating...')\n",
    "    steps = config['steps']\n",
    "    stepcols = [config['depvar']]\n",
    "    for step in steps:\n",
    "        stepcols.append('step_pred_' + str(step))\n",
    "\n",
    "    df = pd.DataFrame.forecasts.read_store(name=config[\"name\"]).replace([np.inf, -np.inf], 0)[stepcols]\n",
    "\n",
    "    pred_cols = [f'step_pred_{str(i)}' for i in steps]\n",
    "    df['mse'] = df.apply(lambda row: mean_squared_error([row['ged_sb_dep']] * 36,\n",
    "                                                        [row[col] for col in pred_cols]), axis=1)\n",
    "    print(df['mse'].mean())"
   ]
  },
  {
   "cell_type": "code",
   "execution_count": 17,
   "metadata": {},
   "outputs": [
    {
     "name": "stdout",
     "output_type": "stream",
     "text": [
      "Evaluating...\n",
      "pr_1_orange_pasta.parquet\n",
      "109.74281157762799\n"
     ]
    }
   ],
   "source": [
    "common_config = get_common_config()\n",
    "evaluate_model(common_config)"
   ]
  },
  {
   "cell_type": "code",
   "execution_count": 18,
   "metadata": {},
   "outputs": [
    {
     "name": "stderr",
     "output_type": "stream",
     "text": [
      "Failed to detect the name of this notebook, you can set it manually with the WANDB_NOTEBOOK_NAME environment variable to enable code saving.\n",
      "wandb: Currently logged in as: xiaolong-sun (views_pipeline). Use `wandb login --relogin` to force relogin\n"
     ]
    },
    {
     "data": {
      "text/html": [
       "wandb version 0.16.3 is available!  To upgrade, please run:\n",
       " $ pip install wandb --upgrade"
      ],
      "text/plain": [
       "<IPython.core.display.HTML object>"
      ]
     },
     "metadata": {},
     "output_type": "display_data"
    },
    {
     "data": {
      "text/html": [
       "Tracking run with wandb version 0.16.0"
      ],
      "text/plain": [
       "<IPython.core.display.HTML object>"
      ]
     },
     "metadata": {},
     "output_type": "display_data"
    },
    {
     "data": {
      "text/html": [
       "Run data is saved locally in <code>/Users/xiaolong/views_pipeline/models/orange_pasta/notebooks/wandb/run-20240227_161919-zec9pjx6</code>"
      ],
      "text/plain": [
       "<IPython.core.display.HTML object>"
      ]
     },
     "metadata": {},
     "output_type": "display_data"
    },
    {
     "data": {
      "text/html": [
       "Syncing run <strong><a href='https://wandb.ai/views_pipeline/orange_pasta/runs/zec9pjx6' target=\"_blank\">trim-shape-26</a></strong> to <a href='https://wandb.ai/views_pipeline/orange_pasta' target=\"_blank\">Weights & Biases</a> (<a href='https://wandb.me/run' target=\"_blank\">docs</a>)<br/>"
      ],
      "text/plain": [
       "<IPython.core.display.HTML object>"
      ]
     },
     "metadata": {},
     "output_type": "display_data"
    },
    {
     "data": {
      "text/html": [
       " View project at <a href='https://wandb.ai/views_pipeline/orange_pasta' target=\"_blank\">https://wandb.ai/views_pipeline/orange_pasta</a>"
      ],
      "text/plain": [
       "<IPython.core.display.HTML object>"
      ]
     },
     "metadata": {},
     "output_type": "display_data"
    },
    {
     "data": {
      "text/html": [
       " View run at <a href='https://wandb.ai/views_pipeline/orange_pasta/runs/zec9pjx6' target=\"_blank\">https://wandb.ai/views_pipeline/orange_pasta/runs/zec9pjx6</a>"
      ],
      "text/plain": [
       "<IPython.core.display.HTML object>"
      ]
     },
     "metadata": {},
     "output_type": "display_data"
    },
    {
     "name": "stdout",
     "output_type": "stream",
     "text": [
      "Training...\n",
      "Evaluating...\n",
      "pr_1_orange_pasta.parquet\n",
      "109.74281157762799\n",
      "Predicting...\n"
     ]
    },
    {
     "name": "stderr",
     "output_type": "stream",
     "text": [
      "wandb: WARNING Source type is set to 'repo' but some required information is missing from the environment. A job will not be created from this run. See https://docs.wandb.ai/guides/launch/create-job\n"
     ]
    },
    {
     "data": {
      "application/vnd.jupyter.widget-view+json": {
       "model_id": "34a326e3f5b846debdf82f66e3a6e568",
       "version_major": 2,
       "version_minor": 0
      },
      "text/plain": [
       "VBox(children=(Label(value='0.001 MB of 0.001 MB uploaded\\r'), FloatProgress(value=1.0, max=1.0)))"
      ]
     },
     "metadata": {},
     "output_type": "display_data"
    },
    {
     "data": {
      "text/html": [
       " View run <strong style=\"color:#cdcd00\">trim-shape-26</strong> at: <a href='https://wandb.ai/views_pipeline/orange_pasta/runs/zec9pjx6' target=\"_blank\">https://wandb.ai/views_pipeline/orange_pasta/runs/zec9pjx6</a><br/>Synced 6 W&B file(s), 0 media file(s), 0 artifact file(s) and 0 other file(s)"
      ],
      "text/plain": [
       "<IPython.core.display.HTML object>"
      ]
     },
     "metadata": {},
     "output_type": "display_data"
    },
    {
     "data": {
      "text/html": [
       "Find logs at: <code>./wandb/run-20240227_161919-zec9pjx6/logs</code>"
      ],
      "text/plain": [
       "<IPython.core.display.HTML object>"
      ]
     },
     "metadata": {},
     "output_type": "display_data"
    }
   ],
   "source": [
    "# note that read_store were commented out in the evaluate_model function when doing this \n",
    "%run ../main.py"
   ]
  },
  {
   "cell_type": "code",
   "execution_count": null,
   "metadata": {},
   "outputs": [],
   "source": []
  }
 ],
 "metadata": {
  "kernelspec": {
   "display_name": "viewser",
   "language": "python",
   "name": "python3"
  },
  "language_info": {
   "codemirror_mode": {
    "name": "ipython",
    "version": 3
   },
   "file_extension": ".py",
   "mimetype": "text/x-python",
   "name": "python",
   "nbconvert_exporter": "python",
   "pygments_lexer": "ipython3",
   "version": "3.11.5"
  }
 },
 "nbformat": 4,
 "nbformat_minor": 2
}
