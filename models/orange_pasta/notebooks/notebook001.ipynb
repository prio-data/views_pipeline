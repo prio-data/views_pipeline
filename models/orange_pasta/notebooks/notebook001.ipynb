{
 "cells": [
  {
   "cell_type": "code",
   "execution_count": 2,
   "metadata": {
    "ExecuteTime": {
     "end_time": "2024-06-19T14:45:24.635363Z",
     "start_time": "2024-06-19T14:45:22.079967Z"
    }
   },
   "outputs": [],
   "source": [
    "import pandas as pd\n",
    "import numpy as np\n",
    "from views_stepshift import *\n",
    "import properscoring as ps\n",
    "from sklearn.metrics import mean_squared_error, mean_absolute_error, mean_squared_log_error, brier_score_loss, average_precision_score, roc_auc_score\n",
    "from views_forecasts.extensions import *\n",
    "from common_utils.utils_evaluation_metrics import EvaluationMetrics\n",
    "from common_utils.utils_model_outputs import ModelOutputs"
   ]
  },
  {
   "cell_type": "code",
   "execution_count": 52,
   "outputs": [
    {
     "data": {
      "text/plain": "           y_score y_score_prob y_var y_var_prob y_true y_true_binary   pg_id  \\\n0         0.062623          NaN   NaN        NaN    0.0           NaN   62356   \n1         0.062623          NaN   NaN        NaN    0.0           NaN   79599   \n2         0.062623          NaN   NaN        NaN    0.0           NaN   79600   \n3         0.062623          NaN   NaN        NaN    0.0           NaN   79601   \n4         0.062623          NaN   NaN        NaN    0.0           NaN   80317   \n...            ...          ...   ...        ...    ...           ...     ...   \n22654075  0.064958          NaN   NaN        NaN    0.0           NaN  190496   \n22654076  0.064958          NaN   NaN        NaN    0.0           NaN  190507   \n22654077  0.064958          NaN   NaN        NaN    0.0           NaN  190508   \n22654078  0.064958          NaN   NaN        NaN    0.0           NaN  190510   \n22654079  0.064958          NaN   NaN        NaN    0.0           NaN  190511   \n\n         c_id month_id  out_sample_month  \n0         NaN      445                 1  \n1         NaN      445                 1  \n2         NaN      445                 1  \n3         NaN      445                 1  \n4         NaN      445                 1  \n...       ...      ...               ...  \n22654075  NaN      492                36  \n22654076  NaN      492                36  \n22654077  NaN      492                36  \n22654078  NaN      492                36  \n22654079  NaN      492                36  \n\n[22654080 rows x 10 columns]",
      "text/html": "<div>\n<style scoped>\n    .dataframe tbody tr th:only-of-type {\n        vertical-align: middle;\n    }\n\n    .dataframe tbody tr th {\n        vertical-align: top;\n    }\n\n    .dataframe thead th {\n        text-align: right;\n    }\n</style>\n<table border=\"1\" class=\"dataframe\">\n  <thead>\n    <tr style=\"text-align: right;\">\n      <th></th>\n      <th>y_score</th>\n      <th>y_score_prob</th>\n      <th>y_var</th>\n      <th>y_var_prob</th>\n      <th>y_true</th>\n      <th>y_true_binary</th>\n      <th>pg_id</th>\n      <th>c_id</th>\n      <th>month_id</th>\n      <th>out_sample_month</th>\n    </tr>\n  </thead>\n  <tbody>\n    <tr>\n      <th>0</th>\n      <td>0.062623</td>\n      <td>NaN</td>\n      <td>NaN</td>\n      <td>NaN</td>\n      <td>0.0</td>\n      <td>NaN</td>\n      <td>62356</td>\n      <td>NaN</td>\n      <td>445</td>\n      <td>1</td>\n    </tr>\n    <tr>\n      <th>1</th>\n      <td>0.062623</td>\n      <td>NaN</td>\n      <td>NaN</td>\n      <td>NaN</td>\n      <td>0.0</td>\n      <td>NaN</td>\n      <td>79599</td>\n      <td>NaN</td>\n      <td>445</td>\n      <td>1</td>\n    </tr>\n    <tr>\n      <th>2</th>\n      <td>0.062623</td>\n      <td>NaN</td>\n      <td>NaN</td>\n      <td>NaN</td>\n      <td>0.0</td>\n      <td>NaN</td>\n      <td>79600</td>\n      <td>NaN</td>\n      <td>445</td>\n      <td>1</td>\n    </tr>\n    <tr>\n      <th>3</th>\n      <td>0.062623</td>\n      <td>NaN</td>\n      <td>NaN</td>\n      <td>NaN</td>\n      <td>0.0</td>\n      <td>NaN</td>\n      <td>79601</td>\n      <td>NaN</td>\n      <td>445</td>\n      <td>1</td>\n    </tr>\n    <tr>\n      <th>4</th>\n      <td>0.062623</td>\n      <td>NaN</td>\n      <td>NaN</td>\n      <td>NaN</td>\n      <td>0.0</td>\n      <td>NaN</td>\n      <td>80317</td>\n      <td>NaN</td>\n      <td>445</td>\n      <td>1</td>\n    </tr>\n    <tr>\n      <th>...</th>\n      <td>...</td>\n      <td>...</td>\n      <td>...</td>\n      <td>...</td>\n      <td>...</td>\n      <td>...</td>\n      <td>...</td>\n      <td>...</td>\n      <td>...</td>\n      <td>...</td>\n    </tr>\n    <tr>\n      <th>22654075</th>\n      <td>0.064958</td>\n      <td>NaN</td>\n      <td>NaN</td>\n      <td>NaN</td>\n      <td>0.0</td>\n      <td>NaN</td>\n      <td>190496</td>\n      <td>NaN</td>\n      <td>492</td>\n      <td>36</td>\n    </tr>\n    <tr>\n      <th>22654076</th>\n      <td>0.064958</td>\n      <td>NaN</td>\n      <td>NaN</td>\n      <td>NaN</td>\n      <td>0.0</td>\n      <td>NaN</td>\n      <td>190507</td>\n      <td>NaN</td>\n      <td>492</td>\n      <td>36</td>\n    </tr>\n    <tr>\n      <th>22654077</th>\n      <td>0.064958</td>\n      <td>NaN</td>\n      <td>NaN</td>\n      <td>NaN</td>\n      <td>0.0</td>\n      <td>NaN</td>\n      <td>190508</td>\n      <td>NaN</td>\n      <td>492</td>\n      <td>36</td>\n    </tr>\n    <tr>\n      <th>22654078</th>\n      <td>0.064958</td>\n      <td>NaN</td>\n      <td>NaN</td>\n      <td>NaN</td>\n      <td>0.0</td>\n      <td>NaN</td>\n      <td>190510</td>\n      <td>NaN</td>\n      <td>492</td>\n      <td>36</td>\n    </tr>\n    <tr>\n      <th>22654079</th>\n      <td>0.064958</td>\n      <td>NaN</td>\n      <td>NaN</td>\n      <td>NaN</td>\n      <td>0.0</td>\n      <td>NaN</td>\n      <td>190511</td>\n      <td>NaN</td>\n      <td>492</td>\n      <td>36</td>\n    </tr>\n  </tbody>\n</table>\n<p>22654080 rows × 10 columns</p>\n</div>"
     },
     "execution_count": 52,
     "metadata": {},
     "output_type": "execute_result"
    }
   ],
   "source": [
    "df_output = pd.read_pickle('../data/generated/df_output_36_testing_20240618_155834.pkl')\n",
    "df_output"
   ],
   "metadata": {
    "collapsed": false,
    "ExecuteTime": {
     "end_time": "2024-06-19T14:13:59.953480Z",
     "start_time": "2024-06-19T14:13:59.948609Z"
    }
   }
  },
  {
   "cell_type": "code",
   "execution_count": 54,
   "outputs": [
    {
     "data": {
      "text/plain": "              MSE       MAE  MSLE   KLD Jeffreys      CRPS Brier    AP   AUC  \\\nstep01  33.787333  0.260264  None  None     None  0.260264  None  None  None   \nstep02  41.030356  0.281456  None  None     None  0.281456  None  None  None   \nstep03  48.388455  0.293722  None  None     None  0.293722  None  None  None   \nstep04  48.176262  0.282599  None  None     None  0.282599  None  None  None   \nstep05  56.285934  0.302974  None  None     None  0.302974  None  None  None   \nstep06  47.178029  0.288970  None  None     None  0.288970  None  None  None   \nstep07  47.613544  0.290899  None  None     None  0.290899  None  None  None   \nstep08  54.069031  0.305460  None  None     None  0.305460  None  None  None   \nstep09  55.087259  0.314131  None  None     None  0.314131  None  None  None   \nstep10  55.194927  0.314236  None  None     None  0.314236  None  None  None   \nstep11  65.340730  0.335363  None  None     None  0.335363  None  None  None   \nstep12  59.454320  0.318001  None  None     None  0.318001  None  None  None   \nstep13  53.123586  0.313850  None  None     None  0.313850  None  None  None   \nstep14  49.622333  0.302461  None  None     None  0.302461  None  None  None   \nstep15  52.879568  0.310318  None  None     None  0.310318  None  None  None   \nstep16  62.389715  0.325833  None  None     None  0.325833  None  None  None   \nstep17  61.386507  0.344998  None  None     None  0.344998  None  None  None   \nstep18  59.977352  0.340566  None  None     None  0.340566  None  None  None   \nstep19  53.626635  0.341182  None  None     None  0.341182  None  None  None   \nstep20  59.695450  0.333834  None  None     None  0.333834  None  None  None   \nstep21  51.908472  0.355539  None  None     None  0.355539  None  None  None   \nstep22  58.230838  0.371551  None  None     None  0.371551  None  None  None   \nstep23  60.724871  0.371524  None  None     None  0.371524  None  None  None   \nstep24  55.447345  0.386148  None  None     None  0.386148  None  None  None   \nstep25  55.070633  0.369498  None  None     None  0.369498  None  None  None   \nstep26  52.562588  0.372124  None  None     None  0.372124  None  None  None   \nstep27  69.148095  0.385292  None  None     None  0.385292  None  None  None   \nstep28  63.234910  0.373196  None  None     None  0.373196  None  None  None   \nstep29  59.858053  0.363831  None  None     None  0.363831  None  None  None   \nstep30  53.775858  0.352540  None  None     None  0.352540  None  None  None   \nstep31  64.640432  0.389636  None  None     None  0.389636  None  None  None   \nstep32  61.634035  0.405523  None  None     None  0.405523  None  None  None   \nstep33  59.013487  0.391181  None  None     None  0.391181  None  None  None   \nstep34  58.546634  0.379228  None  None     None  0.379228  None  None  None   \nstep35  58.752317  0.371496  None  None     None  0.371496  None  None  None   \nstep36  55.413118  0.372958  None  None     None  0.372958  None  None  None   \nmean    55.618584  0.339233  None  None     None  0.339233  None  None  None   \nstd      6.927444  0.038170  None  None     None  0.038170  None  None  None   \nmedian  55.430232  0.340874  None  None     None  0.340874  None  None  None   \n\n       ensemble_weight_reg ensemble_weight_class  \nstep01                None                  None  \nstep02                None                  None  \nstep03                None                  None  \nstep04                None                  None  \nstep05                None                  None  \nstep06                None                  None  \nstep07                None                  None  \nstep08                None                  None  \nstep09                None                  None  \nstep10                None                  None  \nstep11                None                  None  \nstep12                None                  None  \nstep13                None                  None  \nstep14                None                  None  \nstep15                None                  None  \nstep16                None                  None  \nstep17                None                  None  \nstep18                None                  None  \nstep19                None                  None  \nstep20                None                  None  \nstep21                None                  None  \nstep22                None                  None  \nstep23                None                  None  \nstep24                None                  None  \nstep25                None                  None  \nstep26                None                  None  \nstep27                None                  None  \nstep28                None                  None  \nstep29                None                  None  \nstep30                None                  None  \nstep31                None                  None  \nstep32                None                  None  \nstep33                None                  None  \nstep34                None                  None  \nstep35                None                  None  \nstep36                None                  None  \nmean                  None                  None  \nstd                   None                  None  \nmedian                None                  None  ",
      "text/html": "<div>\n<style scoped>\n    .dataframe tbody tr th:only-of-type {\n        vertical-align: middle;\n    }\n\n    .dataframe tbody tr th {\n        vertical-align: top;\n    }\n\n    .dataframe thead th {\n        text-align: right;\n    }\n</style>\n<table border=\"1\" class=\"dataframe\">\n  <thead>\n    <tr style=\"text-align: right;\">\n      <th></th>\n      <th>MSE</th>\n      <th>MAE</th>\n      <th>MSLE</th>\n      <th>KLD</th>\n      <th>Jeffreys</th>\n      <th>CRPS</th>\n      <th>Brier</th>\n      <th>AP</th>\n      <th>AUC</th>\n      <th>ensemble_weight_reg</th>\n      <th>ensemble_weight_class</th>\n    </tr>\n  </thead>\n  <tbody>\n    <tr>\n      <th>step01</th>\n      <td>33.787333</td>\n      <td>0.260264</td>\n      <td>None</td>\n      <td>None</td>\n      <td>None</td>\n      <td>0.260264</td>\n      <td>None</td>\n      <td>None</td>\n      <td>None</td>\n      <td>None</td>\n      <td>None</td>\n    </tr>\n    <tr>\n      <th>step02</th>\n      <td>41.030356</td>\n      <td>0.281456</td>\n      <td>None</td>\n      <td>None</td>\n      <td>None</td>\n      <td>0.281456</td>\n      <td>None</td>\n      <td>None</td>\n      <td>None</td>\n      <td>None</td>\n      <td>None</td>\n    </tr>\n    <tr>\n      <th>step03</th>\n      <td>48.388455</td>\n      <td>0.293722</td>\n      <td>None</td>\n      <td>None</td>\n      <td>None</td>\n      <td>0.293722</td>\n      <td>None</td>\n      <td>None</td>\n      <td>None</td>\n      <td>None</td>\n      <td>None</td>\n    </tr>\n    <tr>\n      <th>step04</th>\n      <td>48.176262</td>\n      <td>0.282599</td>\n      <td>None</td>\n      <td>None</td>\n      <td>None</td>\n      <td>0.282599</td>\n      <td>None</td>\n      <td>None</td>\n      <td>None</td>\n      <td>None</td>\n      <td>None</td>\n    </tr>\n    <tr>\n      <th>step05</th>\n      <td>56.285934</td>\n      <td>0.302974</td>\n      <td>None</td>\n      <td>None</td>\n      <td>None</td>\n      <td>0.302974</td>\n      <td>None</td>\n      <td>None</td>\n      <td>None</td>\n      <td>None</td>\n      <td>None</td>\n    </tr>\n    <tr>\n      <th>step06</th>\n      <td>47.178029</td>\n      <td>0.288970</td>\n      <td>None</td>\n      <td>None</td>\n      <td>None</td>\n      <td>0.288970</td>\n      <td>None</td>\n      <td>None</td>\n      <td>None</td>\n      <td>None</td>\n      <td>None</td>\n    </tr>\n    <tr>\n      <th>step07</th>\n      <td>47.613544</td>\n      <td>0.290899</td>\n      <td>None</td>\n      <td>None</td>\n      <td>None</td>\n      <td>0.290899</td>\n      <td>None</td>\n      <td>None</td>\n      <td>None</td>\n      <td>None</td>\n      <td>None</td>\n    </tr>\n    <tr>\n      <th>step08</th>\n      <td>54.069031</td>\n      <td>0.305460</td>\n      <td>None</td>\n      <td>None</td>\n      <td>None</td>\n      <td>0.305460</td>\n      <td>None</td>\n      <td>None</td>\n      <td>None</td>\n      <td>None</td>\n      <td>None</td>\n    </tr>\n    <tr>\n      <th>step09</th>\n      <td>55.087259</td>\n      <td>0.314131</td>\n      <td>None</td>\n      <td>None</td>\n      <td>None</td>\n      <td>0.314131</td>\n      <td>None</td>\n      <td>None</td>\n      <td>None</td>\n      <td>None</td>\n      <td>None</td>\n    </tr>\n    <tr>\n      <th>step10</th>\n      <td>55.194927</td>\n      <td>0.314236</td>\n      <td>None</td>\n      <td>None</td>\n      <td>None</td>\n      <td>0.314236</td>\n      <td>None</td>\n      <td>None</td>\n      <td>None</td>\n      <td>None</td>\n      <td>None</td>\n    </tr>\n    <tr>\n      <th>step11</th>\n      <td>65.340730</td>\n      <td>0.335363</td>\n      <td>None</td>\n      <td>None</td>\n      <td>None</td>\n      <td>0.335363</td>\n      <td>None</td>\n      <td>None</td>\n      <td>None</td>\n      <td>None</td>\n      <td>None</td>\n    </tr>\n    <tr>\n      <th>step12</th>\n      <td>59.454320</td>\n      <td>0.318001</td>\n      <td>None</td>\n      <td>None</td>\n      <td>None</td>\n      <td>0.318001</td>\n      <td>None</td>\n      <td>None</td>\n      <td>None</td>\n      <td>None</td>\n      <td>None</td>\n    </tr>\n    <tr>\n      <th>step13</th>\n      <td>53.123586</td>\n      <td>0.313850</td>\n      <td>None</td>\n      <td>None</td>\n      <td>None</td>\n      <td>0.313850</td>\n      <td>None</td>\n      <td>None</td>\n      <td>None</td>\n      <td>None</td>\n      <td>None</td>\n    </tr>\n    <tr>\n      <th>step14</th>\n      <td>49.622333</td>\n      <td>0.302461</td>\n      <td>None</td>\n      <td>None</td>\n      <td>None</td>\n      <td>0.302461</td>\n      <td>None</td>\n      <td>None</td>\n      <td>None</td>\n      <td>None</td>\n      <td>None</td>\n    </tr>\n    <tr>\n      <th>step15</th>\n      <td>52.879568</td>\n      <td>0.310318</td>\n      <td>None</td>\n      <td>None</td>\n      <td>None</td>\n      <td>0.310318</td>\n      <td>None</td>\n      <td>None</td>\n      <td>None</td>\n      <td>None</td>\n      <td>None</td>\n    </tr>\n    <tr>\n      <th>step16</th>\n      <td>62.389715</td>\n      <td>0.325833</td>\n      <td>None</td>\n      <td>None</td>\n      <td>None</td>\n      <td>0.325833</td>\n      <td>None</td>\n      <td>None</td>\n      <td>None</td>\n      <td>None</td>\n      <td>None</td>\n    </tr>\n    <tr>\n      <th>step17</th>\n      <td>61.386507</td>\n      <td>0.344998</td>\n      <td>None</td>\n      <td>None</td>\n      <td>None</td>\n      <td>0.344998</td>\n      <td>None</td>\n      <td>None</td>\n      <td>None</td>\n      <td>None</td>\n      <td>None</td>\n    </tr>\n    <tr>\n      <th>step18</th>\n      <td>59.977352</td>\n      <td>0.340566</td>\n      <td>None</td>\n      <td>None</td>\n      <td>None</td>\n      <td>0.340566</td>\n      <td>None</td>\n      <td>None</td>\n      <td>None</td>\n      <td>None</td>\n      <td>None</td>\n    </tr>\n    <tr>\n      <th>step19</th>\n      <td>53.626635</td>\n      <td>0.341182</td>\n      <td>None</td>\n      <td>None</td>\n      <td>None</td>\n      <td>0.341182</td>\n      <td>None</td>\n      <td>None</td>\n      <td>None</td>\n      <td>None</td>\n      <td>None</td>\n    </tr>\n    <tr>\n      <th>step20</th>\n      <td>59.695450</td>\n      <td>0.333834</td>\n      <td>None</td>\n      <td>None</td>\n      <td>None</td>\n      <td>0.333834</td>\n      <td>None</td>\n      <td>None</td>\n      <td>None</td>\n      <td>None</td>\n      <td>None</td>\n    </tr>\n    <tr>\n      <th>step21</th>\n      <td>51.908472</td>\n      <td>0.355539</td>\n      <td>None</td>\n      <td>None</td>\n      <td>None</td>\n      <td>0.355539</td>\n      <td>None</td>\n      <td>None</td>\n      <td>None</td>\n      <td>None</td>\n      <td>None</td>\n    </tr>\n    <tr>\n      <th>step22</th>\n      <td>58.230838</td>\n      <td>0.371551</td>\n      <td>None</td>\n      <td>None</td>\n      <td>None</td>\n      <td>0.371551</td>\n      <td>None</td>\n      <td>None</td>\n      <td>None</td>\n      <td>None</td>\n      <td>None</td>\n    </tr>\n    <tr>\n      <th>step23</th>\n      <td>60.724871</td>\n      <td>0.371524</td>\n      <td>None</td>\n      <td>None</td>\n      <td>None</td>\n      <td>0.371524</td>\n      <td>None</td>\n      <td>None</td>\n      <td>None</td>\n      <td>None</td>\n      <td>None</td>\n    </tr>\n    <tr>\n      <th>step24</th>\n      <td>55.447345</td>\n      <td>0.386148</td>\n      <td>None</td>\n      <td>None</td>\n      <td>None</td>\n      <td>0.386148</td>\n      <td>None</td>\n      <td>None</td>\n      <td>None</td>\n      <td>None</td>\n      <td>None</td>\n    </tr>\n    <tr>\n      <th>step25</th>\n      <td>55.070633</td>\n      <td>0.369498</td>\n      <td>None</td>\n      <td>None</td>\n      <td>None</td>\n      <td>0.369498</td>\n      <td>None</td>\n      <td>None</td>\n      <td>None</td>\n      <td>None</td>\n      <td>None</td>\n    </tr>\n    <tr>\n      <th>step26</th>\n      <td>52.562588</td>\n      <td>0.372124</td>\n      <td>None</td>\n      <td>None</td>\n      <td>None</td>\n      <td>0.372124</td>\n      <td>None</td>\n      <td>None</td>\n      <td>None</td>\n      <td>None</td>\n      <td>None</td>\n    </tr>\n    <tr>\n      <th>step27</th>\n      <td>69.148095</td>\n      <td>0.385292</td>\n      <td>None</td>\n      <td>None</td>\n      <td>None</td>\n      <td>0.385292</td>\n      <td>None</td>\n      <td>None</td>\n      <td>None</td>\n      <td>None</td>\n      <td>None</td>\n    </tr>\n    <tr>\n      <th>step28</th>\n      <td>63.234910</td>\n      <td>0.373196</td>\n      <td>None</td>\n      <td>None</td>\n      <td>None</td>\n      <td>0.373196</td>\n      <td>None</td>\n      <td>None</td>\n      <td>None</td>\n      <td>None</td>\n      <td>None</td>\n    </tr>\n    <tr>\n      <th>step29</th>\n      <td>59.858053</td>\n      <td>0.363831</td>\n      <td>None</td>\n      <td>None</td>\n      <td>None</td>\n      <td>0.363831</td>\n      <td>None</td>\n      <td>None</td>\n      <td>None</td>\n      <td>None</td>\n      <td>None</td>\n    </tr>\n    <tr>\n      <th>step30</th>\n      <td>53.775858</td>\n      <td>0.352540</td>\n      <td>None</td>\n      <td>None</td>\n      <td>None</td>\n      <td>0.352540</td>\n      <td>None</td>\n      <td>None</td>\n      <td>None</td>\n      <td>None</td>\n      <td>None</td>\n    </tr>\n    <tr>\n      <th>step31</th>\n      <td>64.640432</td>\n      <td>0.389636</td>\n      <td>None</td>\n      <td>None</td>\n      <td>None</td>\n      <td>0.389636</td>\n      <td>None</td>\n      <td>None</td>\n      <td>None</td>\n      <td>None</td>\n      <td>None</td>\n    </tr>\n    <tr>\n      <th>step32</th>\n      <td>61.634035</td>\n      <td>0.405523</td>\n      <td>None</td>\n      <td>None</td>\n      <td>None</td>\n      <td>0.405523</td>\n      <td>None</td>\n      <td>None</td>\n      <td>None</td>\n      <td>None</td>\n      <td>None</td>\n    </tr>\n    <tr>\n      <th>step33</th>\n      <td>59.013487</td>\n      <td>0.391181</td>\n      <td>None</td>\n      <td>None</td>\n      <td>None</td>\n      <td>0.391181</td>\n      <td>None</td>\n      <td>None</td>\n      <td>None</td>\n      <td>None</td>\n      <td>None</td>\n    </tr>\n    <tr>\n      <th>step34</th>\n      <td>58.546634</td>\n      <td>0.379228</td>\n      <td>None</td>\n      <td>None</td>\n      <td>None</td>\n      <td>0.379228</td>\n      <td>None</td>\n      <td>None</td>\n      <td>None</td>\n      <td>None</td>\n      <td>None</td>\n    </tr>\n    <tr>\n      <th>step35</th>\n      <td>58.752317</td>\n      <td>0.371496</td>\n      <td>None</td>\n      <td>None</td>\n      <td>None</td>\n      <td>0.371496</td>\n      <td>None</td>\n      <td>None</td>\n      <td>None</td>\n      <td>None</td>\n      <td>None</td>\n    </tr>\n    <tr>\n      <th>step36</th>\n      <td>55.413118</td>\n      <td>0.372958</td>\n      <td>None</td>\n      <td>None</td>\n      <td>None</td>\n      <td>0.372958</td>\n      <td>None</td>\n      <td>None</td>\n      <td>None</td>\n      <td>None</td>\n      <td>None</td>\n    </tr>\n    <tr>\n      <th>mean</th>\n      <td>55.618584</td>\n      <td>0.339233</td>\n      <td>None</td>\n      <td>None</td>\n      <td>None</td>\n      <td>0.339233</td>\n      <td>None</td>\n      <td>None</td>\n      <td>None</td>\n      <td>None</td>\n      <td>None</td>\n    </tr>\n    <tr>\n      <th>std</th>\n      <td>6.927444</td>\n      <td>0.038170</td>\n      <td>None</td>\n      <td>None</td>\n      <td>None</td>\n      <td>0.038170</td>\n      <td>None</td>\n      <td>None</td>\n      <td>None</td>\n      <td>None</td>\n      <td>None</td>\n    </tr>\n    <tr>\n      <th>median</th>\n      <td>55.430232</td>\n      <td>0.340874</td>\n      <td>None</td>\n      <td>None</td>\n      <td>None</td>\n      <td>0.340874</td>\n      <td>None</td>\n      <td>None</td>\n      <td>None</td>\n      <td>None</td>\n      <td>None</td>\n    </tr>\n  </tbody>\n</table>\n</div>"
     },
     "execution_count": 54,
     "metadata": {},
     "output_type": "execute_result"
    }
   ],
   "source": [
    "df_eval = pd.read_pickle('../data/generated/df_evaluation_36_testing_20240618_155834.pkl')\n",
    "df_eval"
   ],
   "metadata": {
    "collapsed": false,
    "ExecuteTime": {
     "end_time": "2024-06-19T14:14:48.935539Z",
     "start_time": "2024-06-19T14:14:48.916520Z"
    }
   }
  },
  {
   "cell_type": "code",
   "execution_count": 18,
   "outputs": [],
   "source": [
    "df_forecast = pd.read_pickle(\"../data/generated/predictions_36_forecasting_20240619_172828.pkl\")"
   ],
   "metadata": {
    "collapsed": false,
    "ExecuteTime": {
     "end_time": "2024-06-19T15:29:17.921430Z",
     "start_time": "2024-06-19T15:29:17.914007Z"
    }
   }
  },
  {
   "cell_type": "code",
   "execution_count": 19,
   "outputs": [
    {
     "data": {
      "text/plain": "Empty DataFrame\nColumns: [step_pred_1, step_pred_2, step_pred_3, step_pred_4, step_pred_5, step_pred_6, step_pred_7, step_pred_8, step_pred_9, step_pred_10, step_pred_11, step_pred_12, step_pred_13, step_pred_14, step_pred_15, step_pred_16, step_pred_17, step_pred_18, step_pred_19, step_pred_20, step_pred_21, step_pred_22, step_pred_23, step_pred_24, step_pred_25, step_pred_26, step_pred_27, step_pred_28, step_pred_29, step_pred_30, step_pred_31, step_pred_32, step_pred_33, step_pred_34, step_pred_35, step_pred_36]\nIndex: []\n\n[0 rows x 36 columns]",
      "text/html": "<div>\n<style scoped>\n    .dataframe tbody tr th:only-of-type {\n        vertical-align: middle;\n    }\n\n    .dataframe tbody tr th {\n        vertical-align: top;\n    }\n\n    .dataframe thead th {\n        text-align: right;\n    }\n</style>\n<table border=\"1\" class=\"dataframe\">\n  <thead>\n    <tr style=\"text-align: right;\">\n      <th></th>\n      <th></th>\n      <th>step_pred_1</th>\n      <th>step_pred_2</th>\n      <th>step_pred_3</th>\n      <th>step_pred_4</th>\n      <th>step_pred_5</th>\n      <th>step_pred_6</th>\n      <th>step_pred_7</th>\n      <th>step_pred_8</th>\n      <th>step_pred_9</th>\n      <th>step_pred_10</th>\n      <th>...</th>\n      <th>step_pred_27</th>\n      <th>step_pred_28</th>\n      <th>step_pred_29</th>\n      <th>step_pred_30</th>\n      <th>step_pred_31</th>\n      <th>step_pred_32</th>\n      <th>step_pred_33</th>\n      <th>step_pred_34</th>\n      <th>step_pred_35</th>\n      <th>step_pred_36</th>\n    </tr>\n    <tr>\n      <th>month_id</th>\n      <th>priogrid_gid</th>\n      <th></th>\n      <th></th>\n      <th></th>\n      <th></th>\n      <th></th>\n      <th></th>\n      <th></th>\n      <th></th>\n      <th></th>\n      <th></th>\n      <th></th>\n      <th></th>\n      <th></th>\n      <th></th>\n      <th></th>\n      <th></th>\n      <th></th>\n      <th></th>\n      <th></th>\n      <th></th>\n      <th></th>\n    </tr>\n  </thead>\n  <tbody>\n  </tbody>\n</table>\n<p>0 rows × 36 columns</p>\n</div>"
     },
     "execution_count": 19,
     "metadata": {},
     "output_type": "execute_result"
    }
   ],
   "source": [
    "df_forecast"
   ],
   "metadata": {
    "collapsed": false,
    "ExecuteTime": {
     "end_time": "2024-06-19T15:29:18.626134Z",
     "start_time": "2024-06-19T15:29:18.622691Z"
    }
   }
  },
  {
   "cell_type": "code",
   "execution_count": 28,
   "outputs": [],
   "source": [
    "stepshift_model = pd.read_pickle(\"../artifacts/forecasting_model_20240618_173119.pkl\")\n",
    "dataset = pd.read_parquet(\"../data/raw/raw_forecasting.parquet\")\n",
    "run_type = 'forecasting'"
   ],
   "metadata": {
    "collapsed": false,
    "ExecuteTime": {
     "end_time": "2024-06-20T07:20:03.452716Z",
     "start_time": "2024-06-20T07:20:03.118062Z"
    }
   }
  },
  {
   "cell_type": "code",
   "execution_count": 33,
   "outputs": [],
   "source": [
    "from ingester3.ViewsMonth import ViewsMonth\n",
    "\n",
    "def get_partitioner_dict(partition, step=36):\n",
    "\n",
    "    \"\"\"Returns the partitioner_dict for the given partition.\"\"\"\n",
    "\n",
    "    if partition == 'calibration':\n",
    "\n",
    "        partitioner_dict = {\"train\":(121,396),\"predict\":(397,444)} # calib_partitioner_dict - (01/01/1990 - 12/31/2012) : (01/01/2013 - 31/12/2015)\n",
    "\n",
    "    if partition == 'testing':\n",
    "\n",
    "        partitioner_dict = {\"train\":(121,444),\"predict\":(445,492)} \n",
    "\n",
    "    if partition == 'forecasting':\n",
    "\n",
    "        month_last = ViewsMonth.now().id - 2 # minus 2 because the current month is not yet available. Verified but can be tested by chinging this and running the check_data notebook.\n",
    "\n",
    "        partitioner_dict = {\"train\":(121, month_last),\"predict\":(month_last +1, month_last + 1 + step)}  # is it even meaningful to have a predict partition for forecasting? if not you can remove steps\n",
    "\n",
    "    # print('partitioner_dict', partitioner_dict) \n",
    "\n",
    "    return partitioner_dict\n",
    "    \n",
    "def get_partition_data(df, run_type):\n",
    "    partitioner_dict = get_partitioner_dict(run_type)\n",
    "\n",
    "    month_first = partitioner_dict['train'][0]\n",
    "\n",
    "    if run_type in ['calibration', 'testing', 'forecasting']:\n",
    "        month_last = partitioner_dict['predict'][1] + 1 # forecasting also needs to get predict months even if they are empty\n",
    "    else:\n",
    "        raise ValueError('partition should be either \"calibration\", \"testing\" or \"forecasting\"')\n",
    "    \n",
    "    month_range = np.arange(month_first, month_last,1) # predict[1] is the last month to predict, so we need to add 1 to include it.\n",
    "\n",
    "    df = df[df.index.get_level_values(\"month_id\").isin(month_range)].copy() # temporal subset\n",
    "\n",
    "    return df"
   ],
   "metadata": {
    "collapsed": false,
    "ExecuteTime": {
     "end_time": "2024-06-20T07:38:47.793724Z",
     "start_time": "2024-06-20T07:38:47.787208Z"
    }
   }
  },
  {
   "cell_type": "code",
   "execution_count": 34,
   "outputs": [
    {
     "data": {
      "text/plain": "                       ged_sb_dep  ln_ged_sb  ln_pop_gpw_sum  decay_ged_sb_1  \\\nmonth_id priogrid_gid                                                          \n533      62356                0.0        0.0        0.000000    2.124068e-07   \n         79599                0.0        0.0        9.145198    2.124068e-07   \n         79600                0.0        0.0        8.394584    2.124068e-07   \n         79601                0.0        0.0        9.903443    2.124068e-07   \n         80317                0.0        0.0       12.290978    2.124068e-07   \n...                           ...        ...             ...             ...   \n569      190496               0.0        0.0       10.408626    7.509715e-08   \n         190507               0.0        0.0        6.647283    7.509715e-08   \n         190508               0.0        0.0        4.562102    7.509715e-08   \n         190510               0.0        0.0        7.619576    7.509715e-08   \n         190511               0.0        0.0        7.596084    7.509715e-08   \n\n                       decay_ged_sb_25  decay_ged_os_1  splag_1_1_sb_1  \\\nmonth_id priogrid_gid                                                    \n533      62356            2.124068e-07    2.124068e-07    0.000000e+00   \n         79599            2.124068e-07    2.124068e-07    8.496272e-07   \n         79600            2.124068e-07    2.124068e-07    1.062034e-06   \n         79601            2.124068e-07    2.124068e-07    8.496272e-07   \n         80317            2.124068e-07    2.124068e-07    6.372204e-07   \n...                                ...             ...             ...   \n569      190496           7.509715e-08    7.509715e-08    3.003886e-07   \n         190507           7.509715e-08    7.509715e-08    3.003886e-07   \n         190508           7.509715e-08    7.509715e-08    3.003886e-07   \n         190510           7.509715e-08    7.509715e-08    3.003886e-07   \n         190511           7.509715e-08    7.509715e-08    3.003886e-07   \n\n                       splag_1_decay_ged_sb_1  step_pred_1  step_pred_10  ...  \\\nmonth_id priogrid_gid                                                     ...   \n533      62356                   0.000000e+00     0.075624      0.086838  ...   \n         79599                   8.496272e-07     0.075624      0.086838  ...   \n         79600                   1.062034e-06     0.075624      0.086838  ...   \n         79601                   8.496272e-07     0.075624      0.086838  ...   \n         80317                   6.372204e-07     0.075624      0.086838  ...   \n...                                       ...          ...           ...  ...   \n569      190496                  3.003886e-07     0.075624      0.086838  ...   \n         190507                  3.003886e-07     0.075624      0.086838  ...   \n         190508                  3.003886e-07     0.075624      0.086838  ...   \n         190510                  3.003886e-07     0.075624      0.086838  ...   \n         190511                  3.003886e-07     0.075624      0.086838  ...   \n\n                       step_pred_33  step_pred_34  step_pred_35  step_pred_36  \\\nmonth_id priogrid_gid                                                           \n533      62356             0.087995      0.085165      0.086579      0.087058   \n         79599             0.087995      0.085165      0.086579      0.087058   \n         79600             0.087995      0.085165      0.086579      0.087058   \n         79601             0.087995      0.085165      0.086579      0.087058   \n         80317             0.087995      0.085165      0.086579      0.087058   \n...                             ...           ...           ...           ...   \n569      190496            0.087995      0.085165      0.086579      0.087058   \n         190507            0.087995      0.085165      0.086579      0.087058   \n         190508            0.087995      0.085165      0.086579      0.087058   \n         190510            0.087995      0.085165      0.086579      0.087058   \n         190511            0.087995      0.085165      0.086579      0.087058   \n\n                       step_pred_4  step_pred_5  step_pred_6  step_pred_7  \\\nmonth_id priogrid_gid                                                       \n533      62356            0.078232     0.077486     0.077665     0.078307   \n         79599            0.078232     0.077486     0.077665     0.078307   \n         79600            0.078232     0.077486     0.077665     0.078307   \n         79601            0.078232     0.077486     0.077665     0.078307   \n         80317            0.078232     0.077486     0.077665     0.078307   \n...                            ...          ...          ...          ...   \n569      190496           0.078232     0.077486     0.077665     0.078307   \n         190507           0.078232     0.077486     0.077665     0.078307   \n         190508           0.078232     0.077486     0.077665     0.078307   \n         190510           0.078232     0.077486     0.077665     0.078307   \n         190511           0.078232     0.077486     0.077665     0.078307   \n\n                       step_pred_8  step_pred_9  \nmonth_id priogrid_gid                            \n533      62356            0.079862     0.081073  \n         79599            0.079862     0.081073  \n         79600            0.079862     0.081073  \n         79601            0.079862     0.081073  \n         80317            0.079862     0.081073  \n...                            ...          ...  \n569      190496           0.079862     0.081073  \n         190507           0.079862     0.081073  \n         190508           0.079862     0.081073  \n         190510           0.079862     0.081073  \n         190511           0.079862     0.081073  \n\n[485070 rows x 44 columns]",
      "text/html": "<div>\n<style scoped>\n    .dataframe tbody tr th:only-of-type {\n        vertical-align: middle;\n    }\n\n    .dataframe tbody tr th {\n        vertical-align: top;\n    }\n\n    .dataframe thead th {\n        text-align: right;\n    }\n</style>\n<table border=\"1\" class=\"dataframe\">\n  <thead>\n    <tr style=\"text-align: right;\">\n      <th></th>\n      <th></th>\n      <th>ged_sb_dep</th>\n      <th>ln_ged_sb</th>\n      <th>ln_pop_gpw_sum</th>\n      <th>decay_ged_sb_1</th>\n      <th>decay_ged_sb_25</th>\n      <th>decay_ged_os_1</th>\n      <th>splag_1_1_sb_1</th>\n      <th>splag_1_decay_ged_sb_1</th>\n      <th>step_pred_1</th>\n      <th>step_pred_10</th>\n      <th>...</th>\n      <th>step_pred_33</th>\n      <th>step_pred_34</th>\n      <th>step_pred_35</th>\n      <th>step_pred_36</th>\n      <th>step_pred_4</th>\n      <th>step_pred_5</th>\n      <th>step_pred_6</th>\n      <th>step_pred_7</th>\n      <th>step_pred_8</th>\n      <th>step_pred_9</th>\n    </tr>\n    <tr>\n      <th>month_id</th>\n      <th>priogrid_gid</th>\n      <th></th>\n      <th></th>\n      <th></th>\n      <th></th>\n      <th></th>\n      <th></th>\n      <th></th>\n      <th></th>\n      <th></th>\n      <th></th>\n      <th></th>\n      <th></th>\n      <th></th>\n      <th></th>\n      <th></th>\n      <th></th>\n      <th></th>\n      <th></th>\n      <th></th>\n      <th></th>\n      <th></th>\n    </tr>\n  </thead>\n  <tbody>\n    <tr>\n      <th rowspan=\"5\" valign=\"top\">533</th>\n      <th>62356</th>\n      <td>0.0</td>\n      <td>0.0</td>\n      <td>0.000000</td>\n      <td>2.124068e-07</td>\n      <td>2.124068e-07</td>\n      <td>2.124068e-07</td>\n      <td>0.000000e+00</td>\n      <td>0.000000e+00</td>\n      <td>0.075624</td>\n      <td>0.086838</td>\n      <td>...</td>\n      <td>0.087995</td>\n      <td>0.085165</td>\n      <td>0.086579</td>\n      <td>0.087058</td>\n      <td>0.078232</td>\n      <td>0.077486</td>\n      <td>0.077665</td>\n      <td>0.078307</td>\n      <td>0.079862</td>\n      <td>0.081073</td>\n    </tr>\n    <tr>\n      <th>79599</th>\n      <td>0.0</td>\n      <td>0.0</td>\n      <td>9.145198</td>\n      <td>2.124068e-07</td>\n      <td>2.124068e-07</td>\n      <td>2.124068e-07</td>\n      <td>8.496272e-07</td>\n      <td>8.496272e-07</td>\n      <td>0.075624</td>\n      <td>0.086838</td>\n      <td>...</td>\n      <td>0.087995</td>\n      <td>0.085165</td>\n      <td>0.086579</td>\n      <td>0.087058</td>\n      <td>0.078232</td>\n      <td>0.077486</td>\n      <td>0.077665</td>\n      <td>0.078307</td>\n      <td>0.079862</td>\n      <td>0.081073</td>\n    </tr>\n    <tr>\n      <th>79600</th>\n      <td>0.0</td>\n      <td>0.0</td>\n      <td>8.394584</td>\n      <td>2.124068e-07</td>\n      <td>2.124068e-07</td>\n      <td>2.124068e-07</td>\n      <td>1.062034e-06</td>\n      <td>1.062034e-06</td>\n      <td>0.075624</td>\n      <td>0.086838</td>\n      <td>...</td>\n      <td>0.087995</td>\n      <td>0.085165</td>\n      <td>0.086579</td>\n      <td>0.087058</td>\n      <td>0.078232</td>\n      <td>0.077486</td>\n      <td>0.077665</td>\n      <td>0.078307</td>\n      <td>0.079862</td>\n      <td>0.081073</td>\n    </tr>\n    <tr>\n      <th>79601</th>\n      <td>0.0</td>\n      <td>0.0</td>\n      <td>9.903443</td>\n      <td>2.124068e-07</td>\n      <td>2.124068e-07</td>\n      <td>2.124068e-07</td>\n      <td>8.496272e-07</td>\n      <td>8.496272e-07</td>\n      <td>0.075624</td>\n      <td>0.086838</td>\n      <td>...</td>\n      <td>0.087995</td>\n      <td>0.085165</td>\n      <td>0.086579</td>\n      <td>0.087058</td>\n      <td>0.078232</td>\n      <td>0.077486</td>\n      <td>0.077665</td>\n      <td>0.078307</td>\n      <td>0.079862</td>\n      <td>0.081073</td>\n    </tr>\n    <tr>\n      <th>80317</th>\n      <td>0.0</td>\n      <td>0.0</td>\n      <td>12.290978</td>\n      <td>2.124068e-07</td>\n      <td>2.124068e-07</td>\n      <td>2.124068e-07</td>\n      <td>6.372204e-07</td>\n      <td>6.372204e-07</td>\n      <td>0.075624</td>\n      <td>0.086838</td>\n      <td>...</td>\n      <td>0.087995</td>\n      <td>0.085165</td>\n      <td>0.086579</td>\n      <td>0.087058</td>\n      <td>0.078232</td>\n      <td>0.077486</td>\n      <td>0.077665</td>\n      <td>0.078307</td>\n      <td>0.079862</td>\n      <td>0.081073</td>\n    </tr>\n    <tr>\n      <th>...</th>\n      <th>...</th>\n      <td>...</td>\n      <td>...</td>\n      <td>...</td>\n      <td>...</td>\n      <td>...</td>\n      <td>...</td>\n      <td>...</td>\n      <td>...</td>\n      <td>...</td>\n      <td>...</td>\n      <td>...</td>\n      <td>...</td>\n      <td>...</td>\n      <td>...</td>\n      <td>...</td>\n      <td>...</td>\n      <td>...</td>\n      <td>...</td>\n      <td>...</td>\n      <td>...</td>\n      <td>...</td>\n    </tr>\n    <tr>\n      <th rowspan=\"5\" valign=\"top\">569</th>\n      <th>190496</th>\n      <td>0.0</td>\n      <td>0.0</td>\n      <td>10.408626</td>\n      <td>7.509715e-08</td>\n      <td>7.509715e-08</td>\n      <td>7.509715e-08</td>\n      <td>3.003886e-07</td>\n      <td>3.003886e-07</td>\n      <td>0.075624</td>\n      <td>0.086838</td>\n      <td>...</td>\n      <td>0.087995</td>\n      <td>0.085165</td>\n      <td>0.086579</td>\n      <td>0.087058</td>\n      <td>0.078232</td>\n      <td>0.077486</td>\n      <td>0.077665</td>\n      <td>0.078307</td>\n      <td>0.079862</td>\n      <td>0.081073</td>\n    </tr>\n    <tr>\n      <th>190507</th>\n      <td>0.0</td>\n      <td>0.0</td>\n      <td>6.647283</td>\n      <td>7.509715e-08</td>\n      <td>7.509715e-08</td>\n      <td>7.509715e-08</td>\n      <td>3.003886e-07</td>\n      <td>3.003886e-07</td>\n      <td>0.075624</td>\n      <td>0.086838</td>\n      <td>...</td>\n      <td>0.087995</td>\n      <td>0.085165</td>\n      <td>0.086579</td>\n      <td>0.087058</td>\n      <td>0.078232</td>\n      <td>0.077486</td>\n      <td>0.077665</td>\n      <td>0.078307</td>\n      <td>0.079862</td>\n      <td>0.081073</td>\n    </tr>\n    <tr>\n      <th>190508</th>\n      <td>0.0</td>\n      <td>0.0</td>\n      <td>4.562102</td>\n      <td>7.509715e-08</td>\n      <td>7.509715e-08</td>\n      <td>7.509715e-08</td>\n      <td>3.003886e-07</td>\n      <td>3.003886e-07</td>\n      <td>0.075624</td>\n      <td>0.086838</td>\n      <td>...</td>\n      <td>0.087995</td>\n      <td>0.085165</td>\n      <td>0.086579</td>\n      <td>0.087058</td>\n      <td>0.078232</td>\n      <td>0.077486</td>\n      <td>0.077665</td>\n      <td>0.078307</td>\n      <td>0.079862</td>\n      <td>0.081073</td>\n    </tr>\n    <tr>\n      <th>190510</th>\n      <td>0.0</td>\n      <td>0.0</td>\n      <td>7.619576</td>\n      <td>7.509715e-08</td>\n      <td>7.509715e-08</td>\n      <td>7.509715e-08</td>\n      <td>3.003886e-07</td>\n      <td>3.003886e-07</td>\n      <td>0.075624</td>\n      <td>0.086838</td>\n      <td>...</td>\n      <td>0.087995</td>\n      <td>0.085165</td>\n      <td>0.086579</td>\n      <td>0.087058</td>\n      <td>0.078232</td>\n      <td>0.077486</td>\n      <td>0.077665</td>\n      <td>0.078307</td>\n      <td>0.079862</td>\n      <td>0.081073</td>\n    </tr>\n    <tr>\n      <th>190511</th>\n      <td>0.0</td>\n      <td>0.0</td>\n      <td>7.596084</td>\n      <td>7.509715e-08</td>\n      <td>7.509715e-08</td>\n      <td>7.509715e-08</td>\n      <td>3.003886e-07</td>\n      <td>3.003886e-07</td>\n      <td>0.075624</td>\n      <td>0.086838</td>\n      <td>...</td>\n      <td>0.087995</td>\n      <td>0.085165</td>\n      <td>0.086579</td>\n      <td>0.087058</td>\n      <td>0.078232</td>\n      <td>0.077486</td>\n      <td>0.077665</td>\n      <td>0.078307</td>\n      <td>0.079862</td>\n      <td>0.081073</td>\n    </tr>\n  </tbody>\n</table>\n<p>485070 rows × 44 columns</p>\n</div>"
     },
     "execution_count": 34,
     "metadata": {},
     "output_type": "execute_result"
    }
   ],
   "source": [
    "stepshift_model.predict(run_type, \"predict\", get_partition_data(dataset, run_type))"
   ],
   "metadata": {
    "collapsed": false,
    "ExecuteTime": {
     "end_time": "2024-06-20T07:39:18.354405Z",
     "start_time": "2024-06-20T07:38:48.115441Z"
    }
   }
  },
  {
   "cell_type": "code",
   "execution_count": null,
   "outputs": [],
   "source": [],
   "metadata": {
    "collapsed": false
   }
  }
 ],
 "metadata": {
  "kernelspec": {
   "display_name": "viewser",
   "language": "python",
   "name": "python3"
  },
  "language_info": {
   "codemirror_mode": {
    "name": "ipython",
    "version": 3
   },
   "file_extension": ".py",
   "mimetype": "text/x-python",
   "name": "python",
   "nbconvert_exporter": "python",
   "pygments_lexer": "ipython3",
   "version": "3.11.5"
  }
 },
 "nbformat": 4,
 "nbformat_minor": 2
}
