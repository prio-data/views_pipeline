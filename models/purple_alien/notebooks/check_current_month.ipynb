{
 "cells": [
  {
   "cell_type": "code",
   "execution_count": 1,
   "metadata": {},
   "outputs": [],
   "source": [
    "from ingester3.ViewsMonth import ViewsMonth\n",
    "from datetime import datetime"
   ]
  },
  {
   "cell_type": "code",
   "execution_count": 2,
   "metadata": {},
   "outputs": [
    {
     "data": {
      "text/plain": [
       "531"
      ]
     },
     "execution_count": 2,
     "metadata": {},
     "output_type": "execute_result"
    }
   ],
   "source": [
    "ViewsMonth.now().id"
   ]
  },
  {
   "cell_type": "code",
   "execution_count": 3,
   "metadata": {},
   "outputs": [
    {
     "data": {
      "text/plain": [
       "531"
      ]
     },
     "execution_count": 3,
     "metadata": {},
     "output_type": "execute_result"
    }
   ],
   "source": [
    "def get_current_month_id(base_year=1990, base_month=1, base_id=121):\n",
    "    \"\"\"\n",
    "    Calculate the month ID of the current month based on a given base year, base month, and the ID of the base month.\n",
    "    \n",
    "    Args:\n",
    "        base_year (int): The year of the base month (default: 1990).\n",
    "        base_month (int): The base month (1 for January, 12 for December; default: 1).\n",
    "        base_id (int): The ID of the base month (default: 121).\n",
    "    \n",
    "    Returns:\n",
    "        int: The ID of the current month.\n",
    "    \"\"\"\n",
    "    current_year, current_month = datetime.now().year, datetime.now().month\n",
    "    return base_id + (current_year - base_year) * 12 + (current_month - base_month)\n",
    "\n",
    "# Example usage\n",
    "current_month_id = get_current_month_id()\n",
    "current_month_id\n"
   ]
  },
  {
   "cell_type": "markdown",
   "metadata": {},
   "source": [
    "Seems legit. "
   ]
  }
 ],
 "metadata": {
  "kernelspec": {
   "display_name": "viewser_2024",
   "language": "python",
   "name": "python3"
  },
  "language_info": {
   "codemirror_mode": {
    "name": "ipython",
    "version": 3
   },
   "file_extension": ".py",
   "mimetype": "text/x-python",
   "name": "python",
   "nbconvert_exporter": "python",
   "pygments_lexer": "ipython3",
   "version": "3.11.7"
  }
 },
 "nbformat": 4,
 "nbformat_minor": 2
}
