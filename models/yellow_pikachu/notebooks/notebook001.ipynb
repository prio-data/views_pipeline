{
 "cells": [
  {
   "cell_type": "markdown",
   "metadata": {},
   "source": [
    "## This notebook is used to test if not using retrain_and_retrieve can generate same results"
   ]
  },
  {
   "cell_type": "code",
   "execution_count": 1,
   "metadata": {},
   "outputs": [],
   "source": [
    "from pathlib import Path\n",
    "import pandas as pd\n",
    "import numpy as np\n",
    "import sys\n",
    "current_file_path = Path.cwd().resolve()\n",
    "root_path = current_file_path.parent\n",
    "sys.path.append(str(root_path))\n",
    "\n",
    "from sklearn.metrics import mean_squared_error\n",
    "from configs.config_common import get_common_config\n",
    "from views_forecasts.extensions import *"
   ]
  },
  {
   "cell_type": "code",
   "execution_count": 2,
   "metadata": {},
   "outputs": [],
   "source": [
    "def evaluate_model(config):\n",
    "    print('Evaluating...')\n",
    "    steps = config['steps']\n",
    "    stepcols = [config['depvar']]\n",
    "    for step in steps:\n",
    "        stepcols.append('step_pred_' + str(step))\n",
    "\n",
    "    df = pd.DataFrame.forecasts.read_store(name=config[\"name\"]).replace([np.inf, -np.inf], 0)[stepcols]\n",
    "\n",
    "    pred_cols = [f'step_pred_{str(i)}' for i in steps]\n",
    "    df['mse'] = df.apply(lambda row: mean_squared_error([row['ged_sb_dep']] * 36,\n",
    "                                                        [row[col] for col in pred_cols]), axis=1)\n",
    "    print(df['mse'].mean())"
   ]
  },
  {
   "cell_type": "code",
   "execution_count": 3,
   "metadata": {},
   "outputs": [
    {
     "name": "stdout",
     "output_type": "stream",
     "text": [
      "Evaluating...\n",
      "pr_1_yellow_pikachu.parquet\n",
      "389.6611787088544\n"
     ]
    }
   ],
   "source": [
    "common_config = get_common_config()\n",
    "evaluate_model(common_config)"
   ]
  },
  {
   "cell_type": "code",
   "execution_count": 1,
   "metadata": {},
   "outputs": [
    {
     "name": "stderr",
     "output_type": "stream",
     "text": [
      "Failed to detect the name of this notebook, you can set it manually with the WANDB_NOTEBOOK_NAME environment variable to enable code saving.\n",
      "wandb: Currently logged in as: xiaolong-sun (views_pipeline). Use `wandb login --relogin` to force relogin\n"
     ]
    },
    {
     "data": {
      "text/html": [
       "wandb version 0.16.3 is available!  To upgrade, please run:\n",
       " $ pip install wandb --upgrade"
      ],
      "text/plain": [
       "<IPython.core.display.HTML object>"
      ]
     },
     "metadata": {},
     "output_type": "display_data"
    },
    {
     "data": {
      "text/html": [
       "Tracking run with wandb version 0.16.0"
      ],
      "text/plain": [
       "<IPython.core.display.HTML object>"
      ]
     },
     "metadata": {},
     "output_type": "display_data"
    },
    {
     "data": {
      "text/html": [
       "Run data is saved locally in <code>/Users/xiaolong/views_pipeline/models/yellow_pikachu/notebooks/wandb/run-20240229_105252-da1tu2pw</code>"
      ],
      "text/plain": [
       "<IPython.core.display.HTML object>"
      ]
     },
     "metadata": {},
     "output_type": "display_data"
    },
    {
     "data": {
      "text/html": [
       "Syncing run <strong><a href='https://wandb.ai/views_pipeline/yellow_pikachu/runs/da1tu2pw' target=\"_blank\">gentle-dream-20</a></strong> to <a href='https://wandb.ai/views_pipeline/yellow_pikachu' target=\"_blank\">Weights & Biases</a> (<a href='https://wandb.me/run' target=\"_blank\">docs</a>)<br/>"
      ],
      "text/plain": [
       "<IPython.core.display.HTML object>"
      ]
     },
     "metadata": {},
     "output_type": "display_data"
    },
    {
     "data": {
      "text/html": [
       " View project at <a href='https://wandb.ai/views_pipeline/yellow_pikachu' target=\"_blank\">https://wandb.ai/views_pipeline/yellow_pikachu</a>"
      ],
      "text/plain": [
       "<IPython.core.display.HTML object>"
      ]
     },
     "metadata": {},
     "output_type": "display_data"
    },
    {
     "data": {
      "text/html": [
       " View run at <a href='https://wandb.ai/views_pipeline/yellow_pikachu/runs/da1tu2pw' target=\"_blank\">https://wandb.ai/views_pipeline/yellow_pikachu/runs/da1tu2pw</a>"
      ],
      "text/plain": [
       "<IPython.core.display.HTML object>"
      ]
     },
     "metadata": {},
     "output_type": "display_data"
    },
    {
     "name": "stdout",
     "output_type": "stream",
     "text": [
      "Training...\n",
      "Evaluating...\n",
      "389.6611787088544\n",
      "Predicting...\n"
     ]
    },
    {
     "name": "stderr",
     "output_type": "stream",
     "text": [
      "wandb: WARNING Source type is set to 'repo' but some required information is missing from the environment. A job will not be created from this run. See https://docs.wandb.ai/guides/launch/create-job\n"
     ]
    },
    {
     "data": {
      "application/vnd.jupyter.widget-view+json": {
       "model_id": "c25c5f7949ba4f0cba2b491b309eb2d4",
       "version_major": 2,
       "version_minor": 0
      },
      "text/plain": [
       "VBox(children=(Label(value='0.001 MB of 0.001 MB uploaded\\r'), FloatProgress(value=1.0, max=1.0)))"
      ]
     },
     "metadata": {},
     "output_type": "display_data"
    },
    {
     "data": {
      "text/html": [
       " View run <strong style=\"color:#cdcd00\">gentle-dream-20</strong> at: <a href='https://wandb.ai/views_pipeline/yellow_pikachu/runs/da1tu2pw' target=\"_blank\">https://wandb.ai/views_pipeline/yellow_pikachu/runs/da1tu2pw</a><br/>Synced 6 W&B file(s), 0 media file(s), 0 artifact file(s) and 0 other file(s)"
      ],
      "text/plain": [
       "<IPython.core.display.HTML object>"
      ]
     },
     "metadata": {},
     "output_type": "display_data"
    },
    {
     "data": {
      "text/html": [
       "Find logs at: <code>./wandb/run-20240229_105252-da1tu2pw/logs</code>"
      ],
      "text/plain": [
       "<IPython.core.display.HTML object>"
      ]
     },
     "metadata": {},
     "output_type": "display_data"
    }
   ],
   "source": [
    "# note that read_store were commented out in the evaluate_model function when doing this \n",
    "%run ../main.py"
   ]
  },
  {
   "cell_type": "code",
   "execution_count": null,
   "metadata": {},
   "outputs": [],
   "source": []
  }
 ],
 "metadata": {
  "kernelspec": {
   "display_name": "viewser",
   "language": "python",
   "name": "python3"
  },
  "language_info": {
   "codemirror_mode": {
    "name": "ipython",
    "version": 3
   },
   "file_extension": ".py",
   "mimetype": "text/x-python",
   "name": "python",
   "nbconvert_exporter": "python",
   "pygments_lexer": "ipython3",
   "version": "3.11.5"
  }
 },
 "nbformat": 4,
 "nbformat_minor": 2
}
