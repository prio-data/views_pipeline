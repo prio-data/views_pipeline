{
 "cells": [
  {
   "cell_type": "code",
   "execution_count": 2,
   "metadata": {},
   "outputs": [],
   "source": [
    "import sys\n",
    "from pathlib import Path\n",
    "import pandas as pd\n",
    "import pickle\n",
    "\n",
    "from sklearn.ensemble import RandomForestClassifier\n",
    "\n",
    "from stepshift.views import StepshiftedModels\n",
    "from views_runs import DataPartitioner, ViewsRun\n",
    "\n",
    "PATH = Path.cwd() \n",
    "sys.path.insert(0, str(Path(*[i for i in PATH.parts[:PATH.parts.index(\"views_pipeline\")+1]]) / \"common_utils\")) # PATH_COMMON_UTILS\n",
    "from set_path import setup_project_paths, setup_artifacts_paths, setup_data_paths\n",
    "setup_project_paths(PATH) #adds all necessary paths to sys.path\n",
    "\n",
    "from config_data_partitions import get_data_partitions #change to common_utils/set_partition.py\n",
    "from config_hyperparameters import get_hp_config\n",
    "from config_model import get_model_config"
   ]
  },
  {
   "cell_type": "code",
   "execution_count": 5,
   "metadata": {},
   "outputs": [],
   "source": [
    "def train(model_config, hp_config, data_partitions):\n",
    "    print(\"Training...\")\n",
    "\n",
    "    # Define the artifacts path manually or according to your notebook structure\n",
    "    artifacts_path = Path(\"your_path_to_artifacts_directory\")\n",
    "\n",
    "    calib_pickle_path = artifacts_path / \"model_calibration_partition.pkl\"\n",
    "    future_pickle_path = artifacts_path / \"model_future_partition.pkl\"\n",
    "\n",
    "    if calib_pickle_path.exists() and future_pickle_path.exists():\n",
    "        print(\"Pickle files already exist. Loading models from pickle files...\")\n",
    "        with open(calib_pickle_path, 'rb') as file:\n",
    "            model_calibration_partition = pickle.load(file)\n",
    "        with open(future_pickle_path, 'rb') as file:\n",
    "            model_future_partition = pickle.load(file)\n",
    "\n",
    "    else:\n",
    "        # Assuming you have loaded the dataset before calling this function\n",
    "        dataset = \"models/electric_relaxation/data/raw/raw.parquet\"  # Load your dataset here\n",
    "\n",
    "        calib_partition = DataPartitioner({'calib': data_partitions[\"calib_partitioner_dict\"]})\n",
    "        future_partition = DataPartitioner({'future': data_partitions[\"future_partitioner_dict\"]})\n",
    "\n",
    "        base_model = RandomForestClassifier(n_estimators=hp_config[\"n_estimators\"], n_jobs=hp_config[\"n_jobs\"])\n",
    "        stepshifter_def = StepshiftedModels(base_model, model_config[\"steps\"], model_config[\"depvar\"])\n",
    "\n",
    "        model_calibration_partition = ViewsRun(calib_partition, stepshifter_def)\n",
    "        model_calibration_partition.fit('calib', 'train', dataset)\n",
    "\n",
    "        model_future_partition = ViewsRun(future_partition, stepshifter_def)\n",
    "        model_future_partition.fit('future', 'train', dataset)\n",
    "\n",
    "        assert model_calibration_partition is not None and model_future_partition is not None, \"Model training failed.\"\n",
    "\n",
    "        with open(calib_pickle_path, 'wb') as file:\n",
    "            pickle.dump(model_calibration_partition, file)\n",
    "        with open(future_pickle_path, 'wb') as file:\n",
    "            pickle.dump(model_future_partition, file)\n",
    "\n",
    "        print(\"Models trained and saved in artifacts folder!\")\n",
    "\n",
    "    return model_calibration_partition, model_future_partition\n"
   ]
  }
 ],
 "metadata": {
  "kernelspec": {
   "display_name": "viewser",
   "language": "python",
   "name": "python3"
  },
  "language_info": {
   "codemirror_mode": {
    "name": "ipython",
    "version": 3
   },
   "file_extension": ".py",
   "mimetype": "text/x-python",
   "name": "python",
   "nbconvert_exporter": "python",
   "pygments_lexer": "ipython3",
   "version": "3.9.18"
  }
 },
 "nbformat": 4,
 "nbformat_minor": 2
}
